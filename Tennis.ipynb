{
 "cells": [
  {
   "cell_type": "markdown",
   "metadata": {},
   "source": [
    "# Collaboration and Competition\n",
    "\n",
    "---\n",
    "\n",
    "In this notebook, you will learn how to use the Unity ML-Agents environment for the third project of the [Deep Reinforcement Learning Nanodegree](https://www.udacity.com/course/deep-reinforcement-learning-nanodegree--nd893) program.\n",
    "\n",
    "### 1. Start the Environment\n",
    "\n",
    "We begin by importing the necessary packages.  If the code cell below returns an error, please revisit the project instructions to double-check that you have installed [Unity ML-Agents](https://github.com/Unity-Technologies/ml-agents/blob/master/docs/Installation.md) and [NumPy](http://www.numpy.org/)."
   ]
  },
  {
   "cell_type": "code",
   "execution_count": 1,
   "metadata": {},
   "outputs": [],
   "source": [
    "from unityagents import UnityEnvironment\n",
    "import numpy as np\n",
    "from collections import deque\n",
    "\n",
    "import matplotlib.pyplot as plt\n",
    "%matplotlib inline\n",
    "import torch\n",
    "\n",
    "from ddpg_agent import Agent"
   ]
  },
  {
   "cell_type": "markdown",
   "metadata": {},
   "source": [
    "Next, we will start the environment!  **_Before running the code cell below_**, change the `file_name` parameter to match the location of the Unity environment that you downloaded.\n",
    "\n",
    "- **Mac**: `\"path/to/Tennis.app\"`\n",
    "- **Windows** (x86): `\"path/to/Tennis_Windows_x86/Tennis.exe\"`\n",
    "- **Windows** (x86_64): `\"path/to/Tennis_Windows_x86_64/Tennis.exe\"`\n",
    "- **Linux** (x86): `\"path/to/Tennis_Linux/Tennis.x86\"`\n",
    "- **Linux** (x86_64): `\"path/to/Tennis_Linux/Tennis.x86_64\"`\n",
    "- **Linux** (x86, headless): `\"path/to/Tennis_Linux_NoVis/Tennis.x86\"`\n",
    "- **Linux** (x86_64, headless): `\"path/to/Tennis_Linux_NoVis/Tennis.x86_64\"`\n",
    "\n",
    "For instance, if you are using a Mac, then you downloaded `Tennis.app`.  If this file is in the same folder as the notebook, then the line below should appear as follows:\n",
    "```\n",
    "env = UnityEnvironment(file_name=\"Tennis.app\")\n",
    "```"
   ]
  },
  {
   "cell_type": "code",
   "execution_count": 2,
   "metadata": {},
   "outputs": [
    {
     "name": "stderr",
     "output_type": "stream",
     "text": [
      "INFO:unityagents:\n",
      "'Academy' started successfully!\n",
      "Unity Academy name: Academy\n",
      "        Number of Brains: 1\n",
      "        Number of External Brains : 1\n",
      "        Lesson number : 0\n",
      "        Reset Parameters :\n",
      "\t\t\n",
      "Unity brain name: TennisBrain\n",
      "        Number of Visual Observations (per agent): 0\n",
      "        Vector Observation space type: continuous\n",
      "        Vector Observation space size (per agent): 8\n",
      "        Number of stacked Vector Observation: 3\n",
      "        Vector Action space type: continuous\n",
      "        Vector Action space size (per agent): 2\n",
      "        Vector Action descriptions: , \n"
     ]
    }
   ],
   "source": [
    "env = UnityEnvironment(file_name=\"Tennis_Windows_x86_64\\\\Tennis.exe\")"
   ]
  },
  {
   "cell_type": "markdown",
   "metadata": {},
   "source": [
    "Environments contain **_brains_** which are responsible for deciding the actions of their associated agents. Here we check for the first brain available, and set it as the default brain we will be controlling from Python."
   ]
  },
  {
   "cell_type": "code",
   "execution_count": 3,
   "metadata": {},
   "outputs": [],
   "source": [
    "# get the default brain\n",
    "brain_name = env.brain_names[0]\n",
    "brain = env.brains[brain_name]"
   ]
  },
  {
   "cell_type": "markdown",
   "metadata": {},
   "source": [
    "### 2. Examine the State and Action Spaces\n",
    "\n",
    "In this environment, two agents control rackets to bounce a ball over a net. If an agent hits the ball over the net, it receives a reward of +0.1.  If an agent lets a ball hit the ground or hits the ball out of bounds, it receives a reward of -0.01.  Thus, the goal of each agent is to keep the ball in play.\n",
    "\n",
    "The observation space consists of 8 variables corresponding to the position and velocity of the ball and racket. Two continuous actions are available, corresponding to movement toward (or away from) the net, and jumping. \n",
    "\n",
    "Run the code cell below to print some information about the environment."
   ]
  },
  {
   "cell_type": "code",
   "execution_count": 4,
   "metadata": {},
   "outputs": [
    {
     "name": "stdout",
     "output_type": "stream",
     "text": [
      "Number of agents: 2\n",
      "Size of each action: 2\n",
      "There are 2 agents. Each observes a state with length: 24\n",
      "The state for the first agent looks like: [ 0.          0.          0.          0.          0.          0.\n",
      "  0.          0.          0.          0.          0.          0.\n",
      "  0.          0.          0.          0.         -6.65278625 -1.5\n",
      " -0.          0.          6.83172083  6.         -0.          0.        ]\n",
      "The state for the second agent looks like: [ 0.          0.          0.          0.          0.          0.\n",
      "  0.          0.          0.          0.          0.          0.\n",
      "  0.          0.          0.          0.         -6.4669857  -1.5\n",
      "  0.          0.         -6.83172083  6.          0.          0.        ]\n"
     ]
    }
   ],
   "source": [
    "# reset the environment\n",
    "env_info = env.reset(train_mode=True)[brain_name]\n",
    "\n",
    "# number of agents \n",
    "num_agents = len(env_info.agents)\n",
    "print('Number of agents:', num_agents)\n",
    "\n",
    "# size of each action\n",
    "action_size = brain.vector_action_space_size\n",
    "print('Size of each action:', action_size)\n",
    "\n",
    "# examine the state space \n",
    "states = env_info.vector_observations\n",
    "state_size = states.shape[1]\n",
    "print('There are {} agents. Each observes a state with length: {}'.format(states.shape[0], state_size))\n",
    "print('The state for the first agent looks like:', states[0])\n",
    "print('The state for the second agent looks like:', states[1])"
   ]
  },
  {
   "cell_type": "markdown",
   "metadata": {},
   "source": [
    "### 3. Take Random Actions in the Environment\n",
    "\n",
    "In the next code cell, you will learn how to use the Python API to control the agents and receive feedback from the environment.\n",
    "\n",
    "Once this cell is executed, you will watch the agents' performance, if they select actions at random with each time step.  A window should pop up that allows you to observe the agents.\n",
    "\n",
    "Of course, as part of the project, you'll have to change the code so that the agents are able to use their experiences to gradually choose better actions when interacting with the environment!"
   ]
  },
  {
   "cell_type": "code",
   "execution_count": 5,
   "metadata": {},
   "outputs": [
    {
     "name": "stdout",
     "output_type": "stream",
     "text": [
      "Score (max over agents) from episode 1: 0.0\n",
      "Score (max over agents) from episode 2: 0.0\n",
      "Score (max over agents) from episode 3: 0.0\n",
      "Score (max over agents) from episode 4: 0.0\n",
      "Score (max over agents) from episode 5: 0.0\n"
     ]
    }
   ],
   "source": [
    "for i in range(1, 6):                                      # play game for 5 episodes\n",
    "    env_info = env.reset(train_mode=False)[brain_name]     # reset the environment    \n",
    "    states = env_info.vector_observations                  # get the current state (for each agent)\n",
    "    scores = np.zeros(num_agents)                          # initialize the score (for each agent)\n",
    "    while True:\n",
    "        actions = np.random.randn(num_agents, action_size) # select an action (for each agent)\n",
    "        actions = np.clip(actions, -1, 1)                  # all actions between -1 and 1\n",
    "        env_info = env.step(actions)[brain_name]           # send all actions to tne environment\n",
    "        next_states = env_info.vector_observations         # get next state (for each agent)\n",
    "        rewards = env_info.rewards                         # get reward (for each agent)\n",
    "        dones = env_info.local_done                        # see if episode finished\n",
    "        scores += env_info.rewards                         # update the score (for each agent)\n",
    "        states = next_states                               # roll over states to next time step\n",
    "        if np.any(dones):                                  # exit loop if episode finished\n",
    "            break\n",
    "    print('Score (max over agents) from episode {}: {}'.format(i, np.max(scores)))"
   ]
  },
  {
   "cell_type": "markdown",
   "metadata": {},
   "source": [
    "### 4. Implement and train an agent to the environment"
   ]
  },
  {
   "cell_type": "code",
   "execution_count": 6,
   "metadata": {},
   "outputs": [],
   "source": [
    "# Initialize our agent\n",
    "seed=17\n",
    "agent = Agent(state_size = state_size, action_size = action_size, num_agents=num_agents, seed = seed)"
   ]
  },
  {
   "cell_type": "code",
   "execution_count": 7,
   "metadata": {},
   "outputs": [],
   "source": [
    "def ddpg(n_episodes=250):\n",
    "    \"\"\"\n",
    "    This function is used to march through a defined number of epochs\n",
    "    for navigating our environment.  Within an epoch, for each step, an action\n",
    "    is chosen for each agent given the current states for each agent \n",
    "    and then we determine from the environment our reward, next_state and whether the\n",
    "    epoch is completed.  Within the step we then conducts \n",
    "    learning activities for the agent.\n",
    "    \n",
    "    :param n_episodes: (int) the number of epochs\n",
    "    \n",
    "    :return: (array_like) calculated scores for each epoch\n",
    "    \"\"\"\n",
    "    score = []\n",
    "    score_window = deque(maxlen=100)                         # last 100 scores\n",
    "    solved = False\n",
    "    for i_episode in range(1, n_episodes+1):\n",
    "        env_info = env.reset(train_mode=True)[brain_name]    # reset the environment\n",
    "        states = env_info.vector_observations                # get the current state\n",
    "        scores = np.zeros(num_agents)                        # initialize the score\n",
    "        agent.reset()                                        # reset OU noise\n",
    "        done = False\n",
    "        while not done:\n",
    "            actions = agent.act(states)                      # select an action for each agent\n",
    "            env_info = env.step(actions)[brain_name]         # send all actions to the environment\n",
    "            next_states = env_info.vector_observations       # get the next state for each agent\n",
    "            rewards = env_info.rewards                       # get the reward for each agent\n",
    "            dones = env_info.local_done                      # see if episode has finished\n",
    "            agent.step(states, actions, rewards, next_states, dones)\n",
    "            scores += env_info.rewards                       # update the score for each agent\n",
    "            states = next_states                             # roll over the state to next time step\n",
    "            if np.any(dones):                                # if any agent has finished, end the episode\n",
    "                done = True\n",
    "        score.append(np.max(scores))\n",
    "        score_window.append(np.max(scores))\n",
    "        if i_episode % 20 == 0:\n",
    "            print('\\rEpisode {}\\tAverage Score: {:.2f}'.format(i_episode, np.mean(score_window)))\n",
    "        if (np.mean(score_window)>=0.5) & (not solved):\n",
    "            print('\\nEnvironment solved in {:d} episodes!\\tAverage Score: {:.2f}'.format(i_episode, np.mean(score_window)))\n",
    "            torch.save(agent.actor_local.state_dict(), 'checkpoint_actor.pth')\n",
    "            for i in range(num_agents):\n",
    "                critic_name = 'checkpoint_critic_'+str(i).zfill(2)+'.pth'\n",
    "                torch.save(agent.critic_local[i].state_dict(), critic_name)\n",
    "            solved = True\n",
    "    return score"
   ]
  },
  {
   "cell_type": "markdown",
   "metadata": {},
   "source": [
    "Train our agent, showing incremental scores (averaged over prior 100 epochs), and then show a graph of our scores per epoch."
   ]
  },
  {
   "cell_type": "code",
   "execution_count": 8,
   "metadata": {},
   "outputs": [
    {
     "name": "stdout",
     "output_type": "stream",
     "text": [
      "Episode 20\tAverage Score: 0.00\n",
      "Episode 40\tAverage Score: 0.00\n",
      "Episode 60\tAverage Score: 0.00\n",
      "Episode 80\tAverage Score: 0.00\n",
      "Episode 100\tAverage Score: 0.00\n",
      "Episode 120\tAverage Score: 0.01\n",
      "Episode 140\tAverage Score: 0.01\n",
      "Episode 160\tAverage Score: 0.01\n",
      "Episode 180\tAverage Score: 0.01\n",
      "Episode 200\tAverage Score: 0.01\n",
      "Episode 220\tAverage Score: 0.01\n",
      "Episode 240\tAverage Score: 0.01\n",
      "Episode 260\tAverage Score: 0.00\n",
      "Episode 280\tAverage Score: 0.00\n",
      "Episode 300\tAverage Score: 0.00\n",
      "Episode 320\tAverage Score: 0.00\n",
      "Episode 340\tAverage Score: 0.01\n",
      "Episode 360\tAverage Score: 0.02\n",
      "Episode 380\tAverage Score: 0.02\n",
      "Episode 400\tAverage Score: 0.03\n",
      "Episode 420\tAverage Score: 0.04\n",
      "Episode 440\tAverage Score: 0.05\n",
      "Episode 460\tAverage Score: 0.05\n",
      "Episode 480\tAverage Score: 0.06\n",
      "Episode 500\tAverage Score: 0.06\n",
      "Episode 520\tAverage Score: 0.06\n",
      "Episode 540\tAverage Score: 0.05\n",
      "Episode 560\tAverage Score: 0.05\n",
      "Episode 580\tAverage Score: 0.05\n",
      "Episode 600\tAverage Score: 0.05\n",
      "Episode 620\tAverage Score: 0.07\n",
      "Episode 640\tAverage Score: 0.10\n",
      "Episode 660\tAverage Score: 0.12\n",
      "Episode 680\tAverage Score: 0.22\n",
      "Episode 700\tAverage Score: 0.35\n",
      "Episode 720\tAverage Score: 0.43\n",
      "Episode 740\tAverage Score: 0.48\n",
      "\n",
      "Environment solved in 741 episodes!\tAverage Score: 0.50\n",
      "Episode 760\tAverage Score: 0.59\n",
      "Episode 780\tAverage Score: 0.49\n",
      "Episode 800\tAverage Score: 0.49\n",
      "Episode 820\tAverage Score: 0.57\n",
      "Episode 840\tAverage Score: 0.73\n",
      "Episode 860\tAverage Score: 0.83\n",
      "Episode 880\tAverage Score: 1.04\n",
      "Episode 900\tAverage Score: 1.26\n",
      "Episode 920\tAverage Score: 1.44\n",
      "Episode 940\tAverage Score: 1.63\n",
      "Episode 960\tAverage Score: 1.69\n",
      "Episode 980\tAverage Score: 1.77\n",
      "Episode 1000\tAverage Score: 1.54\n",
      "Episode 1020\tAverage Score: 1.37\n",
      "Episode 1040\tAverage Score: 1.25\n",
      "Episode 1060\tAverage Score: 1.10\n",
      "Episode 1080\tAverage Score: 1.07\n",
      "Episode 1100\tAverage Score: 1.06\n",
      "Episode 1120\tAverage Score: 1.01\n",
      "Episode 1140\tAverage Score: 1.08\n",
      "Episode 1160\tAverage Score: 1.09\n",
      "Episode 1180\tAverage Score: 1.03\n",
      "Episode 1200\tAverage Score: 1.11\n",
      "Episode 1220\tAverage Score: 1.24\n",
      "Episode 1240\tAverage Score: 1.05\n",
      "Episode 1260\tAverage Score: 1.10\n",
      "Episode 1280\tAverage Score: 1.06\n",
      "Episode 1300\tAverage Score: 0.96\n",
      "Episode 1320\tAverage Score: 0.90\n",
      "Episode 1340\tAverage Score: 0.97\n",
      "Episode 1360\tAverage Score: 0.87\n",
      "Episode 1380\tAverage Score: 0.85\n",
      "Episode 1400\tAverage Score: 0.93\n",
      "Episode 1420\tAverage Score: 0.83\n",
      "Episode 1440\tAverage Score: 0.79\n",
      "Episode 1460\tAverage Score: 1.02\n",
      "Episode 1480\tAverage Score: 0.98\n",
      "Episode 1500\tAverage Score: 0.99\n",
      "Episode 1520\tAverage Score: 1.08\n",
      "Episode 1540\tAverage Score: 1.08\n",
      "Episode 1560\tAverage Score: 0.95\n",
      "Episode 1580\tAverage Score: 1.00\n",
      "Episode 1600\tAverage Score: 0.96\n",
      "Episode 1620\tAverage Score: 1.01\n",
      "Episode 1640\tAverage Score: 1.20\n",
      "Episode 1660\tAverage Score: 1.22\n",
      "Episode 1680\tAverage Score: 1.26\n",
      "Episode 1700\tAverage Score: 1.37\n",
      "Episode 1720\tAverage Score: 1.24\n",
      "Episode 1740\tAverage Score: 1.00\n",
      "Episode 1760\tAverage Score: 0.95\n",
      "Episode 1780\tAverage Score: 1.15\n",
      "Episode 1800\tAverage Score: 1.15\n",
      "Episode 1820\tAverage Score: 1.30\n",
      "Episode 1840\tAverage Score: 1.37\n",
      "Episode 1860\tAverage Score: 1.54\n",
      "Episode 1880\tAverage Score: 1.25\n",
      "Episode 1900\tAverage Score: 1.02\n",
      "Episode 1920\tAverage Score: 0.79\n",
      "Episode 1940\tAverage Score: 0.61\n",
      "Episode 1960\tAverage Score: 0.45\n",
      "Episode 1980\tAverage Score: 0.59\n",
      "Episode 2000\tAverage Score: 0.59\n"
     ]
    },
    {
     "data": {
      "image/png": "[encoded data removed]",
      "text/plain": [
       "<Figure size 432x288 with 1 Axes>"
      ]
     },
     "metadata": {
      "needs_background": "light"
     },
     "output_type": "display_data"
    }
   ],
   "source": [
    "scores = ddpg(n_episodes=2000)\n",
    "\n",
    "fig = plt.figure()\n",
    "ax = fig.add_subplot(111)\n",
    "plt.plot(np.arange(1, len(scores)+1), scores)\n",
    "plt.ylabel('Score')\n",
    "plt.xlabel('Episode #')\n",
    "plt.show()"
   ]
  },
  {
   "cell_type": "markdown",
   "metadata": {},
   "source": [
    "We can then use our trained agent to run through an iteration of the game to see how well it does and print out the winning score."
   ]
  },
  {
   "cell_type": "code",
   "execution_count": null,
   "metadata": {},
   "outputs": [],
   "source": [
    "env_info = env.reset(train_mode=False)[brain_name] # reset the environment\n",
    "states = env_info.vector_observations               # get the current states\n",
    "scores = np.zeros(num_agents)                       # initialize the scores\n",
    "while True:\n",
    "    actions = agent.act(states)                     # select ctions\n",
    "    env_info = env.step(actions)[brain_name]        # send the actions to the environment\n",
    "    next_states = env_info.vector_observations      # get the next states\n",
    "    rewards = env_info.rewards                      # get the rewards\n",
    "    dones = env_info.local_done                     # see if episode has finished\n",
    "    scores += env_info.rewards                      # update the score\n",
    "    states = next_states                            # roll over the states to next time step\n",
    "    if np.any(dones):                               # exit loop if episode finished\n",
    "        break\n",
    "    \n",
    "print(\"Score: {}\".format(np.max(scores)))"
   ]
  },
  {
   "cell_type": "markdown",
   "metadata": {},
   "source": [
    "When finished, you can close the environment."
   ]
  },
  {
   "cell_type": "code",
   "execution_count": null,
   "metadata": {},
   "outputs": [],
   "source": [
    "#env.close()"
   ]
  }
 ],
 "metadata": {
  "kernelspec": {
   "display_name": "collab-compet",
   "language": "python",
   "name": "collab-compet"
  },
  "language_info": {
   "codemirror_mode": {
    "name": "ipython",
    "version": 3
   },
   "file_extension": ".py",
   "mimetype": "text/x-python",
   "name": "python",
   "nbconvert_exporter": "python",
   "pygments_lexer": "ipython3",
   "version": "3.6.10"
  }
 },
 "nbformat": 4,
 "nbformat_minor": 4
}
